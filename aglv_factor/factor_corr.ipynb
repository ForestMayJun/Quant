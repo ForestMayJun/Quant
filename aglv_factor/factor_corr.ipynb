{
 "cells": [
  {
   "cell_type": "markdown",
   "metadata": {},
   "source": [
    "计算因子相关性"
   ]
  },
  {
   "cell_type": "code",
   "execution_count": 1,
   "metadata": {},
   "outputs": [],
   "source": [
    "import numpy as np\n",
    "import pandas as pd"
   ]
  },
  {
   "cell_type": "code",
   "execution_count": 8,
   "metadata": {},
   "outputs": [
    {
     "data": {
      "text/plain": [
       "date        1.000000\n",
       "SH603033   -0.546361\n",
       "SZ002325   -0.000547\n",
       "SH600568   -0.161476\n",
       "SH688338   -0.590614\n",
       "              ...   \n",
       "SZ300635   -0.012934\n",
       "SH603290   -0.108045\n",
       "SH600476   -0.101271\n",
       "SZ002077   -0.764711\n",
       "SH600234   -0.848746\n",
       "Length: 5073, dtype: float64"
      ]
     },
     "execution_count": 8,
     "metadata": {},
     "output_type": "execute_result"
    }
   ],
   "source": [
    "root1 = '/mnt/datadisk2/aglv/aglv/lab_aglv/aglv_factor/CVaR_neg_standard.csv'\n",
    "root2 = '/mnt/datadisk2/aglv/aglv/lab_aglv/aglv_factor/CVaR_posi_0.9_standard.csv'\n",
    "\n",
    "df1 = pd.read_csv(root1)\n",
    "df2 = pd.read_csv(root2)\n",
    "\n",
    "common_cols = df1.columns.intersection(df2.columns)\n",
    "\n",
    "corr_series = df1.corrwith(df2)\n",
    "corr_series"
   ]
  },
  {
   "cell_type": "code",
   "execution_count": 5,
   "metadata": {},
   "outputs": [
    {
     "data": {
      "text/plain": [
       "date       -0.996536\n",
       "SZ000561   -0.420261\n",
       "SZ002807   -0.389701\n",
       "SZ002047    0.298478\n",
       "SH603266   -0.154569\n",
       "SH603960    0.271256\n",
       "SH688265    0.582129\n",
       "SH600338   -0.298128\n",
       "SH603987    0.117949\n",
       "SZ000061    0.386961\n",
       "SZ300402    0.124044\n",
       "SZ300313   -0.036791\n",
       "SZ002409    0.314607\n",
       "SZ002803   -0.717971\n",
       "SZ002147         NaN\n",
       "SH600992   -0.441007\n",
       "SH688625    0.127881\n",
       "SZ002984   -0.762413\n",
       "SZ002059   -0.059258\n",
       "SH601326   -0.113905\n",
       "dtype: float64"
      ]
     },
     "execution_count": 5,
     "metadata": {},
     "output_type": "execute_result"
    }
   ],
   "source": [
    "corr_df[:20]"
   ]
  }
 ],
 "metadata": {
  "kernelspec": {
   "display_name": "base",
   "language": "python",
   "name": "python3"
  },
  "language_info": {
   "codemirror_mode": {
    "name": "ipython",
    "version": 3
   },
   "file_extension": ".py",
   "mimetype": "text/x-python",
   "name": "python",
   "nbconvert_exporter": "python",
   "pygments_lexer": "ipython3",
   "version": "3.8.3"
  }
 },
 "nbformat": 4,
 "nbformat_minor": 2
}

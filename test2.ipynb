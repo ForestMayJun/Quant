{
 "cells": [
  {
   "cell_type": "code",
   "execution_count": null,
   "metadata": {},
   "outputs": [],
   "source": []
  },
  {
   "cell_type": "markdown",
   "metadata": {},
   "source": []
  },
  {
   "cell_type": "markdown",
   "metadata": {},
   "source": [
    "## 尝试使用新数据集口"
   ]
  },
  {
   "cell_type": "code",
   "execution_count": 2,
   "metadata": {},
   "outputs": [],
   "source": [
    "import numpy as np\n",
    "import pandas as pd\n",
    "from DataDaily_index_new import DataDaily_index"
   ]
  },
  {
   "cell_type": "code",
   "execution_count": 9,
   "metadata": {},
   "outputs": [
    {
     "name": "stdout",
     "output_type": "stream",
     "text": [
      "load /mnt/datadisk/pjluo_shared/data_daily_index_new.h5...\n",
      "F_INFO_WINDCODE    884106.WI    882223.WI   887191.WI  866149.WI    886008.WI  \\\n",
      "date                                                                            \n",
      "20171009         1000.775503   996.476887         NaN        NaN  1003.933818   \n",
      "20171010         1010.288876  1020.711630         NaN        NaN  1016.001888   \n",
      "20171011         1012.200753  1017.283177         NaN        NaN  1013.526532   \n",
      "20171012         1011.766123  1014.064932         NaN        NaN  1007.716564   \n",
      "20171013         1015.515614  1024.181875         NaN        NaN  1015.469839   \n",
      "...                      ...          ...         ...        ...          ...   \n",
      "20240710          884.687305   711.352163  471.530603        NaN   816.056609   \n",
      "20240711          909.891314   734.821007  475.644396        NaN   840.731887   \n",
      "20240712          912.854655   737.541386  469.182667        NaN   842.435149   \n",
      "20240715          903.962413   735.366211  468.285611        NaN   825.071894   \n",
      "20240716          909.683909   729.459864  468.862106        NaN   819.255748   \n",
      "\n",
      "F_INFO_WINDCODE   8841758.WI   8841409.WI  866127.WI    866041.WI  \\\n",
      "date                                                                \n",
      "20171009                 NaN          NaN        NaN  1001.959307   \n",
      "20171010                 NaN          NaN        NaN  1007.901051   \n",
      "20171011                 NaN          NaN        NaN  1003.714007   \n",
      "20171012                 NaN          NaN        NaN  1006.223185   \n",
      "20171013                 NaN          NaN        NaN  1007.334100   \n",
      "...                      ...          ...        ...          ...   \n",
      "20240710         1040.576126  1909.356275        NaN   921.823709   \n",
      "20240711         1048.275245  1956.371825        NaN   948.193226   \n",
      "20240712         1047.664391  1928.317608        NaN   947.191725   \n",
      "20240715         1055.001302  1927.708685        NaN   919.752856   \n",
      "20240716         1062.213201  1911.049508        NaN   914.464308   \n",
      "\n",
      "F_INFO_WINDCODE    866028.WI  ...    882231.WI   882241.WI    882421.WI  \\\n",
      "date                          ...                                         \n",
      "20171009          993.445777  ...  1002.930302  984.497849  1002.455609   \n",
      "20171010          991.106965  ...  1023.591047  988.686359  1012.824940   \n",
      "20171011          971.129846  ...  1028.291398  989.187709  1009.324142   \n",
      "20171012          974.145212  ...  1042.869313  986.684709  1003.576537   \n",
      "20171013          984.206683  ...  1047.290015  985.131008  1012.419707   \n",
      "...                      ...  ...          ...         ...          ...   \n",
      "20240710         1088.706894  ...   833.461858  978.669887   595.357995   \n",
      "20240711         1103.412511  ...   854.124234  972.412104   614.442940   \n",
      "20240712         1095.592610  ...   856.832431  989.158203   617.047342   \n",
      "20240715         1090.098805  ...   850.295551  996.887593   605.990655   \n",
      "20240716         1121.514402  ...   847.059303  991.645915   602.851308   \n",
      "\n",
      "F_INFO_WINDCODE    883126.WI  8841844.WI  869417.WI    884725.WI    884139.WI  \\\n",
      "date                                                                            \n",
      "20171009         1001.735291         NaN        NaN  1006.465461  1003.924684   \n",
      "20171010         1012.003117         NaN        NaN  1002.118689  1022.255646   \n",
      "20171011         1013.536969         NaN        NaN   991.884823  1028.154040   \n",
      "20171012         1007.881882         NaN        NaN   985.880016  1022.324446   \n",
      "20171013         1013.421452         NaN        NaN   983.864513  1038.478002   \n",
      "...                      ...         ...        ...          ...          ...   \n",
      "20240710          851.385596  837.191895        NaN   673.797047   513.976553   \n",
      "20240711          875.424993  862.158537        NaN   705.569166   525.515751   \n",
      "20240712          876.533803  867.198245        NaN   704.117005   528.546037   \n",
      "20240715          866.142119  861.183168        NaN   692.803249   525.491166   \n",
      "20240716          861.591597  860.951918        NaN   689.084949   521.387173   \n",
      "\n",
      "F_INFO_WINDCODE   8841807.WI    883164.WI  \n",
      "date                                       \n",
      "20171009                 NaN  1010.666256  \n",
      "20171010                 NaN  1038.468750  \n",
      "20171011                 NaN  1065.282227  \n",
      "20171012                 NaN  1066.227380  \n",
      "20171013                 NaN  1059.491738  \n",
      "...                      ...          ...  \n",
      "20240710         1009.066166   412.076877  \n",
      "20240711         1034.922979   424.726593  \n",
      "20240712         1034.859209   421.917681  \n",
      "20240715         1030.237281   412.917500  \n",
      "20240716         1033.325597   411.404951  \n",
      "\n",
      "[1646 rows x 2593 columns]\n"
     ]
    }
   ],
   "source": [
    "data_daily = DataDaily_index()\n",
    "close = data_daily.close\n",
    "u = set(data_daily.universe_all).intersection(close.columns)\n",
    "close = close.loc[:, u] # 矫正后的收盘价df\n",
    "\n",
    "print(close)"
   ]
  },
  {
   "cell_type": "markdown",
   "metadata": {},
   "source": [
    "### 检查缺失值"
   ]
  },
  {
   "cell_type": "code",
   "execution_count": 11,
   "metadata": {},
   "outputs": [
    {
     "name": "stdout",
     "output_type": "stream",
     "text": [
      "F_INFO_WINDCODE\n",
      "884106.WI        0\n",
      "882223.WI        0\n",
      "887191.WI     1256\n",
      "866149.WI     1622\n",
      "886008.WI        0\n",
      "              ... \n",
      "869417.WI     1633\n",
      "884725.WI        0\n",
      "884139.WI        0\n",
      "8841807.WI    1550\n",
      "883164.WI        0\n",
      "Length: 2593, dtype: int64\n",
      "F_INFO_WINDCODE\n",
      "887191.WI      1256\n",
      "866149.WI      1622\n",
      "8841758.WI     1550\n",
      "8841409.WI      687\n",
      "866127.WI      1622\n",
      "               ... \n",
      "CI009665.WI     994\n",
      "869209.WI      1633\n",
      "8841844.WI     1550\n",
      "869417.WI      1633\n",
      "8841807.WI     1550\n",
      "Length: 1286, dtype: int64\n",
      "Index(['887191.WI', '866149.WI', '8841758.WI', '8841409.WI', '866127.WI',\n",
      "       '866041.WI', '866028.WI', '8841321.WI', '884555.WI', '8841657.WI',\n",
      "       ...\n",
      "       'CI009183.WI', '869317.WI', '8841739.WI', '8841815.WI', '8841572.WI',\n",
      "       'CI009665.WI', '869209.WI', '8841844.WI', '869417.WI', '8841807.WI'],\n",
      "      dtype='object', name='F_INFO_WINDCODE', length=1286)\n",
      "date\n",
      "20240226    527.560492\n",
      "20240227    551.749173\n",
      "20240228    492.935112\n",
      "20240229    519.276111\n",
      "20240301    540.397211\n",
      "               ...    \n",
      "20240710    471.530603\n",
      "20240711    475.644396\n",
      "20240712    469.182667\n",
      "20240715    468.285611\n",
      "20240716    468.862106\n",
      "Name: 887191.WI, Length: 96, dtype: float64\n"
     ]
    }
   ],
   "source": [
    "close_isna = close.isna().sum()\n",
    "close_na_stock = close_isna[close_isna > 0].index\n",
    "\n",
    "print(close_isna)\n",
    "print(close_isna[close_isna > 0])\n",
    "print(close_na_stock)\n",
    "print(close[close_na_stock[0]][close[close_na_stock[2]] > 0])"
   ]
  },
  {
   "cell_type": "markdown",
   "metadata": {},
   "source": [
    "DataMinute数据集"
   ]
  },
  {
   "cell_type": "code",
   "execution_count": 3,
   "metadata": {},
   "outputs": [
    {
     "name": "stdout",
     "output_type": "stream",
     "text": [
      "load ./data_minute_vwap.h5...\n",
      "InstrumentID   SH600000   SH600004  SH600006   SH600007  SH600008   SH600009  \\\n",
      "date                                                                           \n",
      "20180102      12.609999  14.729992  5.859989  17.159988  5.150007  45.000000   \n",
      "20180103      12.729998  14.840016  5.879994  17.110018  5.300000  44.440007   \n",
      "20180104      12.700000  14.750000  5.870006  16.980024  6.009993  43.980013   \n",
      "20180105      12.670002  14.600000  5.850000  16.980024  5.660000  44.319987   \n",
      "20180108      12.690001  14.679992  5.859989  17.180024  5.640000  44.149983   \n",
      "...                 ...        ...       ...        ...       ...        ...   \n",
      "20240717       8.900000   9.640000  6.930000  21.860000  2.860000  34.680000   \n",
      "20240718       8.750000   9.680000  6.790000  21.810000  2.850000  35.060000   \n",
      "20240719       8.790000   9.650000  6.870000  22.370000  2.880000  34.800000   \n",
      "20240722       8.710000   9.640000  6.620000  21.800000  2.880000  35.590000   \n",
      "20240723       8.620000   9.630000  6.820000  21.740000  2.870000  35.940000   \n",
      "\n",
      "InstrumentID  SH600010  SH600011   SH600012  SH600015  ...  SZ301568  \\\n",
      "date                                                   ...             \n",
      "20180102      2.460005  6.180004  11.000000   9.02001  ...       NaN   \n",
      "20180103      2.490001  6.269996  11.370014   9.10000  ...       NaN   \n",
      "20180104      2.500000  6.300000  11.329986   9.12999  ...       NaN   \n",
      "20180105      2.509999  6.269996  11.370014   9.15000  ...       NaN   \n",
      "20180108      2.500000  6.330004  11.249976   9.15000  ...       NaN   \n",
      "...                ...       ...        ...       ...  ...       ...   \n",
      "20240717      1.420000  8.770000  13.560000   6.53000  ...     28.89   \n",
      "20240718      1.420000  8.570000  13.210000   6.56000  ...     27.20   \n",
      "20240719      1.430000  8.760000  13.340000   6.51000  ...     27.00   \n",
      "20240722      1.440000  8.730000  13.190000   6.50000  ...     27.95   \n",
      "20240723      1.440000  8.420000  13.100000   6.38000  ...     28.11   \n",
      "\n",
      "InstrumentID  SZ301577  SZ301578  SZ301580  SZ301587  SZ301588  SZ301589  \\\n",
      "date                                                                       \n",
      "20180102           NaN       NaN       NaN       NaN       NaN       NaN   \n",
      "20180103           NaN       NaN       NaN       NaN       NaN       NaN   \n",
      "20180104           NaN       NaN       NaN       NaN       NaN       NaN   \n",
      "20180105           NaN       NaN       NaN       NaN       NaN       NaN   \n",
      "20180108           NaN       NaN       NaN       NaN       NaN       NaN   \n",
      "...                ...       ...       ...       ...       ...       ...   \n",
      "20240717         63.14     36.09     65.88     25.23     20.94    183.88   \n",
      "20240718         58.50     34.28     67.41     24.47     21.16    178.06   \n",
      "20240719         58.05     34.70     68.80     24.69     21.20    177.02   \n",
      "20240722         58.94     35.70     68.00     24.98     21.32    179.69   \n",
      "20240723         61.40     35.80     67.20     25.20     21.27    177.60   \n",
      "\n",
      "InstrumentID  SZ301591  SZ301596  SZ301603  \n",
      "date                                        \n",
      "20180102           NaN       NaN       NaN  \n",
      "20180103           NaN       NaN       NaN  \n",
      "20180104           NaN       NaN       NaN  \n",
      "20180105           NaN       NaN       NaN  \n",
      "20180108           NaN       NaN       NaN  \n",
      "...                ...       ...       ...  \n",
      "20240717         36.01     74.31     42.59  \n",
      "20240718         34.58     72.39     41.12  \n",
      "20240719         34.22     73.01     42.28  \n",
      "20240722         35.40     73.48     42.60  \n",
      "20240723         35.34     74.93     42.77  \n",
      "\n",
      "[1591 rows x 5276 columns]\n"
     ]
    }
   ],
   "source": [
    "from DataMinute_vwap import DataMinute\n",
    "data_minute = DataMinute()\n",
    "print(data_minute.get_price('09:30', 'Close'))"
   ]
  },
  {
   "cell_type": "code",
   "execution_count": 7,
   "metadata": {},
   "outputs": [
    {
     "name": "stdout",
     "output_type": "stream",
     "text": [
      "['_add_oneday', '_check_data', '_gen_init_data_minute', '_increment_update', '_load_data', 'get_price']\n"
     ]
    }
   ],
   "source": [
    "# 获取所有方法名\n",
    "methods = [func for func in dir(data_minute) if callable(getattr(data_minute, func)) and not func.startswith('__')]\n",
    "print(methods)"
   ]
  },
  {
   "cell_type": "code",
   "execution_count": 10,
   "metadata": {},
   "outputs": [
    {
     "name": "stdout",
     "output_type": "stream",
     "text": [
      "InstrumentID  SH600000  SH600004  SH600006  SH600007  SH600008  SH600009  \\\n",
      "date                                                                       \n",
      "20180102         12.61     14.73      5.86     17.16      5.15     45.00   \n",
      "20180103         12.72     14.82      5.85     17.10      5.35     44.46   \n",
      "20180104         12.68     14.72      5.87     17.00      5.97     43.86   \n",
      "20180105         12.67     14.62      5.83     16.98      5.67     44.33   \n",
      "20180108         12.67     14.66      5.91     17.16      5.67     44.31   \n",
      "...                ...       ...       ...       ...       ...       ...   \n",
      "20240717          8.88      9.62      6.86     21.94      2.86     34.73   \n",
      "20240718          8.70      9.65      6.75     21.82      2.85     34.94   \n",
      "20240719          8.74      9.65      6.83     22.16      2.87     34.99   \n",
      "20240722          8.68      9.66      6.71     21.89      2.88     35.62   \n",
      "20240723          8.63      9.63      6.71     21.70      2.88     35.68   \n",
      "\n",
      "InstrumentID  SH600010  SH600011  SH600012  SH600015  ...  SZ301568  SZ301577  \\\n",
      "date                                                  ...                       \n",
      "20180102          2.46      6.18     11.00      9.01  ...       NaN       NaN   \n",
      "20180103          2.48      6.25     11.36      9.08  ...       NaN       NaN   \n",
      "20180104          2.49      6.30     11.34      9.12  ...       NaN       NaN   \n",
      "20180105          2.49      6.27     11.36      9.14  ...       NaN       NaN   \n",
      "20180108          2.50      6.32     11.21      9.13  ...       NaN       NaN   \n",
      "...                ...       ...       ...       ...  ...       ...       ...   \n",
      "20240717          1.42      8.74     13.58      6.54  ...     28.74     63.45   \n",
      "20240718          1.42      8.51     13.08      6.54  ...     27.14     58.30   \n",
      "20240719          1.43      8.72     13.34      6.53  ...     27.38     58.35   \n",
      "20240722          1.45      8.64     13.12      6.48  ...     28.13     59.97   \n",
      "20240723          1.45      8.41     13.16      6.37  ...     28.26     60.72   \n",
      "\n",
      "InstrumentID  SZ301578  SZ301580  SZ301587  SZ301588  SZ301589  SZ301591  \\\n",
      "date                                                                       \n",
      "20180102           NaN       NaN       NaN       NaN       NaN       NaN   \n",
      "20180103           NaN       NaN       NaN       NaN       NaN       NaN   \n",
      "20180104           NaN       NaN       NaN       NaN       NaN       NaN   \n",
      "20180105           NaN       NaN       NaN       NaN       NaN       NaN   \n",
      "20180108           NaN       NaN       NaN       NaN       NaN       NaN   \n",
      "...                ...       ...       ...       ...       ...       ...   \n",
      "20240717         35.89     65.98     25.20     20.93    184.32     35.95   \n",
      "20240718         34.56     67.10     24.21     21.24    176.13     34.20   \n",
      "20240719         34.46     69.46     24.69     21.18    177.49     34.09   \n",
      "20240722         36.87     67.06     25.21     21.33    179.71     35.53   \n",
      "20240723         36.05     67.35     25.19     21.32    175.00     35.36   \n",
      "\n",
      "InstrumentID  SZ301596  SZ301603  \n",
      "date                              \n",
      "20180102           NaN       NaN  \n",
      "20180103           NaN       NaN  \n",
      "20180104           NaN       NaN  \n",
      "20180105           NaN       NaN  \n",
      "20180108           NaN       NaN  \n",
      "...                ...       ...  \n",
      "20240717         73.91     42.51  \n",
      "20240718         71.33     42.15  \n",
      "20240719         72.80     42.40  \n",
      "20240722         73.87     42.64  \n",
      "20240723         76.37     42.49  \n",
      "\n",
      "[1591 rows x 5276 columns]\n"
     ]
    }
   ],
   "source": [
    "print(data_minute.get_price('09:31', 'Close'))"
   ]
  },
  {
   "cell_type": "markdown",
   "metadata": {},
   "source": [
    "对比DataDaily和DataDaily_index_new"
   ]
  },
  {
   "cell_type": "code",
   "execution_count": 1,
   "metadata": {},
   "outputs": [
    {
     "name": "stdout",
     "output_type": "stream",
     "text": [
      "load ./data_daily.h5...\n",
      "load /mnt/datadisk/pjluo_shared/data_daily_index_new.h5...\n",
      "['_add_oneday', '_add_oneday_list', '_check_data', '_gen_init_data_minute', '_increment_update', '_load_data']\n",
      "['start_date', 'end_date', 'data_file', 'minute_h5_dir', 'data', 'stock_list', 'stock_num', 'universe_all', 'close', 'universe_use', 'adjamount', 'adjvolume', 'amount', 'buy_value_exlarge_order', 'buy_value_exlarge_order_act', 'buy_value_large_order', 'buy_value_large_order_act', 'buy_value_med_order', 'buy_value_med_order_act', 'buy_value_small_order', 'buy_value_small_order_act', 'close_net_inflow_rate_value', 'close_net_inflow_rate_value_l', 'factor_k_amount', 'high', 'low', 'open_', 'open_net_inflow_rate_value', 'open_net_inflow_rate_value_l', 's_mfd_inflow', 's_mfd_inflow_close', 's_mfd_inflow_close_large_order', 's_mfd_inflow_open', 's_mfd_inflow_open_large_order', 'sell_value_exlarge_order', 'sell_value_exlarge_order_act', 'sell_value_large_order', 'sell_value_large_order_act', 'sell_value_med_order', 'sell_value_med_order_act', 'sell_value_small_order', 'sell_value_small_order_act', 'volume']\n"
     ]
    }
   ],
   "source": [
    "from DataDaily import DataDaily\n",
    "from DataDaily_index_new import DataDaily_index\n",
    "\n",
    "data_daily = DataDaily()\n",
    "data_index = DataDaily_index()\n",
    "\n",
    "methods = [func for func in dir(data_index) if callable(getattr(data_index, func)) and not func.startswith('__')]\n",
    "attributes = [key for key, value in data_index.__dict__.items() if not callable(value) and not key.startswith(\"__\")]\n",
    "print(methods)\n",
    "print(attributes)"
   ]
  },
  {
   "cell_type": "code",
   "execution_count": 2,
   "metadata": {},
   "outputs": [
    {
     "name": "stdout",
     "output_type": "stream",
     "text": [
      "5074\n",
      "2594\n"
     ]
    }
   ],
   "source": [
    "print(len(data_daily.universe_all))\n",
    "print(len(data_index.universe_all))"
   ]
  },
  {
   "cell_type": "code",
   "execution_count": 3,
   "metadata": {},
   "outputs": [
    {
     "name": "stdout",
     "output_type": "stream",
     "text": [
      "Index(['stock_num', 'factor_k_amount', 'S_DQ_VOLUME', 'S_DQ_AMOUNT',\n",
      "       'S_DQ_ADJVOLUME', 'S_DQ_ADJAMOUNT', 'S_DQ_OPEN', 'S_DQ_HIGH',\n",
      "       'S_DQ_LOW', 'S_DQ_CLOSE', 'BUY_VALUE_EXLARGE_ORDER',\n",
      "       'SELL_VALUE_EXLARGE_ORDER', 'BUY_VALUE_LARGE_ORDER',\n",
      "       'SELL_VALUE_LARGE_ORDER', 'BUY_VALUE_MED_ORDER', 'SELL_VALUE_MED_ORDER',\n",
      "       'BUY_VALUE_SMALL_ORDER', 'SELL_VALUE_SMALL_ORDER', 'S_MFD_INFLOW',\n",
      "       'S_MFD_INFLOW_OPEN', 'OPEN_NET_INFLOW_RATE_VALUE', 'S_MFD_INFLOW_CLOSE',\n",
      "       'CLOSE_NET_INFLOW_RATE_VALUE', 'S_MFD_INFLOW_OPEN_LARGE_ORDER',\n",
      "       'OPEN_NET_INFLOW_RATE_VALUE_L', 'S_MFD_INFLOW_CLOSE_LARGE_ORDER',\n",
      "       'CLOSE_NET_INFLOW_RATE_VALU_L', 'BUY_VALUE_EXLARGE_ORDER_ACT',\n",
      "       'SELL_VALUE_EXLARGE_ORDER_ACT', 'BUY_VALUE_LARGE_ORDER_ACT',\n",
      "       'SELL_VALUE_LARGE_ORDER_ACT', 'BUY_VALUE_MED_ORDER_ACT',\n",
      "       'SELL_VALUE_MED_ORDER_ACT', 'BUY_VALUE_SMALL_ORDER_ACT',\n",
      "       'SELL_VALUE_SMALL_ORDER_ACT'],\n",
      "      dtype='object')\n"
     ]
    }
   ],
   "source": [
    "print(data_index.data.columns)"
   ]
  },
  {
   "cell_type": "code",
   "execution_count": 4,
   "metadata": {},
   "outputs": [
    {
     "name": "stdout",
     "output_type": "stream",
     "text": [
      "date      F_INFO_WINDCODE\n",
      "20171009  866005.WI           -0.012544\n",
      "          866006.WI           -0.002626\n",
      "          866007.WI           -0.006079\n",
      "          866008.WI            0.003186\n",
      "          866009.WI           -0.001349\n",
      "                                ...    \n",
      "20240723  WKLI.WI             -5.267200\n",
      "          WKMM.WI            -13.521800\n",
      "          WKNF.WI            -26.380500\n",
      "          废弃2868001.WI      -852.271700\n",
      "          废弃868001.WI       -859.861100\n",
      "Name: CLOSE_NET_INFLOW_RATE_VALUE, Length: 2980842, dtype: float64\n"
     ]
    }
   ],
   "source": [
    "print(data_index.data.CLOSE_NET_INFLOW_RATE_VALUE)"
   ]
  },
  {
   "cell_type": "code",
   "execution_count": 3,
   "metadata": {},
   "outputs": [
    {
     "name": "stdout",
     "output_type": "stream",
     "text": [
      "0    False\n",
      "1    False\n",
      "2    False\n",
      "3    False\n",
      "4     True\n",
      "5     True\n",
      "6     True\n",
      "7     True\n",
      "8     True\n",
      "9     True\n",
      "dtype: bool\n"
     ]
    }
   ],
   "source": [
    "import pandas as pd\n",
    "x = pd.Series(range(10))\n",
    "print((x>3))"
   ]
  }
 ],
 "metadata": {
  "kernelspec": {
   "display_name": "base",
   "language": "python",
   "name": "python3"
  },
  "language_info": {
   "codemirror_mode": {
    "name": "ipython",
    "version": 3
   },
   "file_extension": ".py",
   "mimetype": "text/x-python",
   "name": "python",
   "nbconvert_exporter": "python",
   "pygments_lexer": "ipython3",
   "version": "3.8.3"
  }
 },
 "nbformat": 4,
 "nbformat_minor": 2
}

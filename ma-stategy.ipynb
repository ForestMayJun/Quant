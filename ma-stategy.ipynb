{
 "cells": [
  {
   "cell_type": "markdown",
   "id": "36416f08",
   "metadata": {
    "_cell_guid": "b1076dfc-b9ad-4769-8c92-a6c4dae69d19",
    "_uuid": "8f2839f25d086af736a60e9eeb907d3b93b6e0e5",
    "papermill": {
     "duration": 0.004429,
     "end_time": "2024-07-01T06:50:44.884961",
     "exception": false,
     "start_time": "2024-07-01T06:50:44.880532",
     "status": "completed"
    },
    "tags": []
   },
   "source": [
    "# 基于双均线的量化策略与回测"
   ]
  },
  {
   "cell_type": "markdown",
   "id": "e81a8244",
   "metadata": {
    "papermill": {
     "duration": 0.004527,
     "end_time": "2024-07-01T06:50:44.893814",
     "exception": false,
     "start_time": "2024-07-01T06:50:44.889287",
     "status": "completed"
    },
    "tags": []
   },
   "source": [
    "数据集为15分钟级别的某品种利率债数据"
   ]
  },
  {
   "cell_type": "markdown",
   "id": "46eb8712",
   "metadata": {
    "papermill": {
     "duration": 0.00373,
     "end_time": "2024-07-01T06:50:44.901964",
     "exception": false,
     "start_time": "2024-07-01T06:50:44.898234",
     "status": "completed"
    },
    "tags": []
   },
   "source": [
    "配置环境"
   ]
  },
  {
   "cell_type": "code",
   "execution_count": 1,
   "id": "f042ad4d",
   "metadata": {
    "execution": {
     "iopub.execute_input": "2024-07-01T06:50:44.911938Z",
     "iopub.status.busy": "2024-07-01T06:50:44.911450Z",
     "iopub.status.idle": "2024-07-01T06:50:45.807361Z",
     "shell.execute_reply": "2024-07-01T06:50:45.806374Z"
    },
    "papermill": {
     "duration": 0.904261,
     "end_time": "2024-07-01T06:50:45.810140",
     "exception": false,
     "start_time": "2024-07-01T06:50:44.905879",
     "status": "completed"
    },
    "tags": []
   },
   "outputs": [],
   "source": [
    "import pandas as pd\n",
    "import numpy as np\n",
    "import matplotlib.pyplot as plt"
   ]
  },
  {
   "cell_type": "markdown",
   "id": "0f6d3d46",
   "metadata": {
    "papermill": {
     "duration": 0.003631,
     "end_time": "2024-07-01T06:50:45.817862",
     "exception": false,
     "start_time": "2024-07-01T06:50:45.814231",
     "status": "completed"
    },
    "tags": []
   },
   "source": [
    "## 读取数据"
   ]
  },
  {
   "cell_type": "code",
   "execution_count": 2,
   "id": "b6ed95c9",
   "metadata": {
    "execution": {
     "iopub.execute_input": "2024-07-01T06:50:45.827955Z",
     "iopub.status.busy": "2024-07-01T06:50:45.826688Z",
     "iopub.status.idle": "2024-07-01T06:50:45.986642Z",
     "shell.execute_reply": "2024-07-01T06:50:45.985447Z"
    },
    "papermill": {
     "duration": 0.167629,
     "end_time": "2024-07-01T06:50:45.989276",
     "exception": false,
     "start_time": "2024-07-01T06:50:45.821647",
     "status": "completed"
    },
    "tags": []
   },
   "outputs": [],
   "source": [
    "root = '/kaggle/input/bond-rate/PROJECT_TRAIN_GK.parquet'\n",
    "data = pd.read_parquet(root)"
   ]
  },
  {
   "cell_type": "code",
   "execution_count": 3,
   "id": "94a0bcd6",
   "metadata": {
    "execution": {
     "iopub.execute_input": "2024-07-01T06:50:45.999001Z",
     "iopub.status.busy": "2024-07-01T06:50:45.998604Z",
     "iopub.status.idle": "2024-07-01T06:50:46.025769Z",
     "shell.execute_reply": "2024-07-01T06:50:46.024626Z"
    },
    "papermill": {
     "duration": 0.034804,
     "end_time": "2024-07-01T06:50:46.028198",
     "exception": false,
     "start_time": "2024-07-01T06:50:45.993394",
     "status": "completed"
    },
    "tags": []
   },
   "outputs": [
    {
     "data": {
      "text/html": [
       "<div>\n",
       "<style scoped>\n",
       "    .dataframe tbody tr th:only-of-type {\n",
       "        vertical-align: middle;\n",
       "    }\n",
       "\n",
       "    .dataframe tbody tr th {\n",
       "        vertical-align: top;\n",
       "    }\n",
       "\n",
       "    .dataframe thead th {\n",
       "        text-align: right;\n",
       "    }\n",
       "</style>\n",
       "<table border=\"1\" class=\"dataframe\">\n",
       "  <thead>\n",
       "    <tr style=\"text-align: right;\">\n",
       "      <th></th>\n",
       "      <th>平均价</th>\n",
       "      <th>最高价</th>\n",
       "      <th>最低价</th>\n",
       "      <th>开盘价</th>\n",
       "      <th>收盘价</th>\n",
       "      <th>成交量</th>\n",
       "    </tr>\n",
       "    <tr>\n",
       "      <th>TIME</th>\n",
       "      <th></th>\n",
       "      <th></th>\n",
       "      <th></th>\n",
       "      <th></th>\n",
       "      <th></th>\n",
       "      <th></th>\n",
       "    </tr>\n",
       "  </thead>\n",
       "  <tbody>\n",
       "    <tr>\n",
       "      <th>2018-01-02 09:15:00</th>\n",
       "      <td>4.979000</td>\n",
       "      <td>4.979</td>\n",
       "      <td>4.979</td>\n",
       "      <td>4.9790</td>\n",
       "      <td>4.979</td>\n",
       "      <td>5</td>\n",
       "    </tr>\n",
       "    <tr>\n",
       "      <th>2018-01-02 09:30:00</th>\n",
       "      <td>4.979000</td>\n",
       "      <td>4.979</td>\n",
       "      <td>4.979</td>\n",
       "      <td>4.9790</td>\n",
       "      <td>4.979</td>\n",
       "      <td>3</td>\n",
       "    </tr>\n",
       "    <tr>\n",
       "      <th>2018-01-02 09:45:00</th>\n",
       "      <td>4.984000</td>\n",
       "      <td>4.984</td>\n",
       "      <td>4.984</td>\n",
       "      <td>4.9840</td>\n",
       "      <td>4.984</td>\n",
       "      <td>3</td>\n",
       "    </tr>\n",
       "    <tr>\n",
       "      <th>2018-01-02 10:00:00</th>\n",
       "      <td>4.987125</td>\n",
       "      <td>4.989</td>\n",
       "      <td>4.984</td>\n",
       "      <td>4.9865</td>\n",
       "      <td>4.984</td>\n",
       "      <td>4</td>\n",
       "    </tr>\n",
       "    <tr>\n",
       "      <th>2018-01-02 10:15:00</th>\n",
       "      <td>4.980875</td>\n",
       "      <td>4.984</td>\n",
       "      <td>4.979</td>\n",
       "      <td>4.9815</td>\n",
       "      <td>4.979</td>\n",
       "      <td>4</td>\n",
       "    </tr>\n",
       "  </tbody>\n",
       "</table>\n",
       "</div>"
      ],
      "text/plain": [
       "                          平均价    最高价    最低价     开盘价    收盘价  成交量\n",
       "TIME                                                           \n",
       "2018-01-02 09:15:00  4.979000  4.979  4.979  4.9790  4.979    5\n",
       "2018-01-02 09:30:00  4.979000  4.979  4.979  4.9790  4.979    3\n",
       "2018-01-02 09:45:00  4.984000  4.984  4.984  4.9840  4.984    3\n",
       "2018-01-02 10:00:00  4.987125  4.989  4.984  4.9865  4.984    4\n",
       "2018-01-02 10:15:00  4.980875  4.984  4.979  4.9815  4.979    4"
      ]
     },
     "execution_count": 3,
     "metadata": {},
     "output_type": "execute_result"
    }
   ],
   "source": [
    "data.head()"
   ]
  },
  {
   "cell_type": "code",
   "execution_count": 4,
   "id": "e35b73f0",
   "metadata": {
    "execution": {
     "iopub.execute_input": "2024-07-01T06:50:46.038498Z",
     "iopub.status.busy": "2024-07-01T06:50:46.037835Z",
     "iopub.status.idle": "2024-07-01T06:50:46.052240Z",
     "shell.execute_reply": "2024-07-01T06:50:46.051019Z"
    },
    "papermill": {
     "duration": 0.022656,
     "end_time": "2024-07-01T06:50:46.055030",
     "exception": false,
     "start_time": "2024-07-01T06:50:46.032374",
     "status": "completed"
    },
    "tags": []
   },
   "outputs": [
    {
     "data": {
      "text/html": [
       "<div>\n",
       "<style scoped>\n",
       "    .dataframe tbody tr th:only-of-type {\n",
       "        vertical-align: middle;\n",
       "    }\n",
       "\n",
       "    .dataframe tbody tr th {\n",
       "        vertical-align: top;\n",
       "    }\n",
       "\n",
       "    .dataframe thead th {\n",
       "        text-align: right;\n",
       "    }\n",
       "</style>\n",
       "<table border=\"1\" class=\"dataframe\">\n",
       "  <thead>\n",
       "    <tr style=\"text-align: right;\">\n",
       "      <th></th>\n",
       "      <th>平均价</th>\n",
       "      <th>最高价</th>\n",
       "      <th>最低价</th>\n",
       "      <th>开盘价</th>\n",
       "      <th>收盘价</th>\n",
       "      <th>成交量</th>\n",
       "    </tr>\n",
       "    <tr>\n",
       "      <th>TIME</th>\n",
       "      <th></th>\n",
       "      <th></th>\n",
       "      <th></th>\n",
       "      <th></th>\n",
       "      <th></th>\n",
       "      <th></th>\n",
       "    </tr>\n",
       "  </thead>\n",
       "  <tbody>\n",
       "    <tr>\n",
       "      <th>2020-12-31 16:00:00</th>\n",
       "      <td>4.223944</td>\n",
       "      <td>4.2245</td>\n",
       "      <td>4.222833</td>\n",
       "      <td>4.2245</td>\n",
       "      <td>4.222833</td>\n",
       "      <td>3</td>\n",
       "    </tr>\n",
       "    <tr>\n",
       "      <th>2020-12-31 16:15:00</th>\n",
       "      <td>4.220594</td>\n",
       "      <td>4.2220</td>\n",
       "      <td>4.219500</td>\n",
       "      <td>4.2220</td>\n",
       "      <td>4.219500</td>\n",
       "      <td>4</td>\n",
       "    </tr>\n",
       "    <tr>\n",
       "      <th>2020-12-31 16:30:00</th>\n",
       "      <td>4.223250</td>\n",
       "      <td>4.2245</td>\n",
       "      <td>4.222000</td>\n",
       "      <td>4.2220</td>\n",
       "      <td>4.224500</td>\n",
       "      <td>2</td>\n",
       "    </tr>\n",
       "    <tr>\n",
       "      <th>2020-12-31 16:45:00</th>\n",
       "      <td>4.222000</td>\n",
       "      <td>4.2220</td>\n",
       "      <td>4.222000</td>\n",
       "      <td>4.2220</td>\n",
       "      <td>4.222000</td>\n",
       "      <td>1</td>\n",
       "    </tr>\n",
       "    <tr>\n",
       "      <th>2020-12-31 17:00:00</th>\n",
       "      <td>4.223000</td>\n",
       "      <td>4.2230</td>\n",
       "      <td>4.223000</td>\n",
       "      <td>4.2230</td>\n",
       "      <td>4.223000</td>\n",
       "      <td>1</td>\n",
       "    </tr>\n",
       "  </tbody>\n",
       "</table>\n",
       "</div>"
      ],
      "text/plain": [
       "                          平均价     最高价       最低价     开盘价       收盘价  成交量\n",
       "TIME                                                                  \n",
       "2020-12-31 16:00:00  4.223944  4.2245  4.222833  4.2245  4.222833    3\n",
       "2020-12-31 16:15:00  4.220594  4.2220  4.219500  4.2220  4.219500    4\n",
       "2020-12-31 16:30:00  4.223250  4.2245  4.222000  4.2220  4.224500    2\n",
       "2020-12-31 16:45:00  4.222000  4.2220  4.222000  4.2220  4.222000    1\n",
       "2020-12-31 17:00:00  4.223000  4.2230  4.223000  4.2230  4.223000    1"
      ]
     },
     "execution_count": 4,
     "metadata": {},
     "output_type": "execute_result"
    }
   ],
   "source": [
    "data.tail()"
   ]
  },
  {
   "cell_type": "markdown",
   "id": "2996fd27",
   "metadata": {
    "papermill": {
     "duration": 0.004148,
     "end_time": "2024-07-01T06:50:46.064082",
     "exception": false,
     "start_time": "2024-07-01T06:50:46.059934",
     "status": "completed"
    },
    "tags": []
   },
   "source": [
    "## 生成交易策略"
   ]
  },
  {
   "cell_type": "code",
   "execution_count": 5,
   "id": "dd2ed7b8",
   "metadata": {
    "execution": {
     "iopub.execute_input": "2024-07-01T06:50:46.074671Z",
     "iopub.status.busy": "2024-07-01T06:50:46.074290Z",
     "iopub.status.idle": "2024-07-01T06:50:46.083844Z",
     "shell.execute_reply": "2024-07-01T06:50:46.082620Z"
    },
    "papermill": {
     "duration": 0.018035,
     "end_time": "2024-07-01T06:50:46.086493",
     "exception": false,
     "start_time": "2024-07-01T06:50:46.068458",
     "status": "completed"
    },
    "tags": []
   },
   "outputs": [],
   "source": [
    "class Strategy():\n",
    "    def __init__(self, data, short_window=10, long_window=30) -> None:\n",
    "        self.data = data\n",
    "        self.short_window = short_window\n",
    "        self.long_window = long_window\n",
    "        self.signal = pd.Series(index=data.index)\n",
    "        self.data['price'] = data['收盘价'] # generally, using close price as the price data\n",
    "\n",
    "    def generate_signal(self):\n",
    "        self.data['short_MA'] = self.data['price'].rolling(window=self.short_window, min_periods=1).mean()\n",
    "        self.data['long_MA'] = self.data['price'].rolling(window=self.long_window, min_periods=1).mean()\n",
    "\n",
    "        # generate trading signal: 1->buy 0->hold -1->sell\n",
    "        # self.signal = 0.0\n",
    "        self.signal[self.short_window:] = np.where(\n",
    "            self.data['short_MA'][self.short_window:] > self.data['long_MA'][self.short_window:], 1.0, 0.0\n",
    "        )\n",
    "        self.signal.diff().fillna(0)\n",
    "\n",
    "        return self.signal"
   ]
  },
  {
   "cell_type": "markdown",
   "id": "786c6227",
   "metadata": {
    "papermill": {
     "duration": 0.00427,
     "end_time": "2024-07-01T06:50:46.095356",
     "exception": false,
     "start_time": "2024-07-01T06:50:46.091086",
     "status": "completed"
    },
    "tags": []
   },
   "source": [
    "## 回测代码"
   ]
  },
  {
   "cell_type": "code",
   "execution_count": 6,
   "id": "dcba33e9",
   "metadata": {
    "execution": {
     "iopub.execute_input": "2024-07-01T06:50:46.106672Z",
     "iopub.status.busy": "2024-07-01T06:50:46.106275Z",
     "iopub.status.idle": "2024-07-01T06:50:46.128209Z",
     "shell.execute_reply": "2024-07-01T06:50:46.126900Z"
    },
    "papermill": {
     "duration": 0.030638,
     "end_time": "2024-07-01T06:50:46.130770",
     "exception": false,
     "start_time": "2024-07-01T06:50:46.100132",
     "status": "completed"
    },
    "tags": []
   },
   "outputs": [],
   "source": [
    "strategy = Strategy(data)\n",
    "signal = strategy.generate_signal()\n",
    "ytm_avg = strategy.data['price']\n",
    "\n",
    "pnl = signal * ytm_avg.diff().shift(-2)\n",
    "drawdown = (pnl.cumsum().cummax() - pnl.cumsum()).max()\n",
    "sharpe = pnl.mean() / (pnl.std() + 1e-10)"
   ]
  },
  {
   "cell_type": "code",
   "execution_count": 7,
   "id": "162b9c41",
   "metadata": {
    "execution": {
     "iopub.execute_input": "2024-07-01T06:50:46.141331Z",
     "iopub.status.busy": "2024-07-01T06:50:46.140951Z",
     "iopub.status.idle": "2024-07-01T06:50:46.148771Z",
     "shell.execute_reply": "2024-07-01T06:50:46.147644Z"
    },
    "papermill": {
     "duration": 0.016109,
     "end_time": "2024-07-01T06:50:46.151409",
     "exception": false,
     "start_time": "2024-07-01T06:50:46.135300",
     "status": "completed"
    },
    "tags": []
   },
   "outputs": [
    {
     "name": "stdout",
     "output_type": "stream",
     "text": [
      "0.02332845601258038\n",
      "0.21517082547053912\n",
      "TIME\n",
      "2018-01-02 09:15:00       NaN\n",
      "2018-01-02 09:30:00       NaN\n",
      "2018-01-02 09:45:00       NaN\n",
      "2018-01-02 10:00:00       NaN\n",
      "2018-01-02 10:15:00       NaN\n",
      "                        ...  \n",
      "2020-12-31 16:00:00    0.0050\n",
      "2020-12-31 16:15:00   -0.0025\n",
      "2020-12-31 16:30:00    0.0010\n",
      "2020-12-31 16:45:00       NaN\n",
      "2020-12-31 17:00:00       NaN\n",
      "Length: 24208, dtype: float64\n"
     ]
    }
   ],
   "source": [
    "print(sharpe)\n",
    "print(drawdown)\n",
    "print(pnl)"
   ]
  },
  {
   "cell_type": "markdown",
   "id": "2d9549a5",
   "metadata": {
    "papermill": {
     "duration": 0.004229,
     "end_time": "2024-07-01T06:50:46.160358",
     "exception": false,
     "start_time": "2024-07-01T06:50:46.156129",
     "status": "completed"
    },
    "tags": []
   },
   "source": [
    "## 展示图像"
   ]
  },
  {
   "cell_type": "code",
   "execution_count": 8,
   "id": "4b0a131d",
   "metadata": {
    "execution": {
     "iopub.execute_input": "2024-07-01T06:50:46.170861Z",
     "iopub.status.busy": "2024-07-01T06:50:46.170447Z",
     "iopub.status.idle": "2024-07-01T06:50:46.677621Z",
     "shell.execute_reply": "2024-07-01T06:50:46.676425Z"
    },
    "papermill": {
     "duration": 0.515203,
     "end_time": "2024-07-01T06:50:46.679982",
     "exception": false,
     "start_time": "2024-07-01T06:50:46.164779",
     "status": "completed"
    },
    "tags": []
   },
   "outputs": [
    {
     "data": {
      "image/png": "[encoded data removed]",
      "text/plain": [
       "<Figure size 1200x300 with 2 Axes>"
      ]
     },
     "metadata": {},
     "output_type": "display_data"
    }
   ],
   "source": [
    "plt.figure(figsize=(12,3))\n",
    "plt.subplot(2,1,1)\n",
    "plt.plot(ytm_avg)\n",
    "plt.subplot(2,1,2)\n",
    "plt.plot(pnl)\n",
    "plt.show()"
   ]
  }
 ],
 "metadata": {
  "kaggle": {
   "accelerator": "none",
   "dataSources": [
    {
     "datasetId": 5312555,
     "sourceId": 8829686,
     "sourceType": "datasetVersion"
    }
   ],
   "dockerImageVersionId": 30732,
   "isGpuEnabled": false,
   "isInternetEnabled": true,
   "language": "python",
   "sourceType": "notebook"
  },
  "kernelspec": {
   "display_name": "Python 3",
   "language": "python",
   "name": "python3"
  },
  "language_info": {
   "codemirror_mode": {
    "name": "ipython",
    "version": 3
   },
   "file_extension": ".py",
   "mimetype": "text/x-python",
   "name": "python",
   "nbconvert_exporter": "python",
   "pygments_lexer": "ipython3",
   "version": "3.10.13"
  },
  "papermill": {
   "default_parameters": {},
   "duration": 5.238787,
   "end_time": "2024-07-01T06:50:47.206660",
   "environment_variables": {},
   "exception": null,
   "input_path": "__notebook__.ipynb",
   "output_path": "__notebook__.ipynb",
   "parameters": {},
   "start_time": "2024-07-01T06:50:41.967873",
   "version": "2.5.0"
  }
 },
 "nbformat": 4,
 "nbformat_minor": 5
}
